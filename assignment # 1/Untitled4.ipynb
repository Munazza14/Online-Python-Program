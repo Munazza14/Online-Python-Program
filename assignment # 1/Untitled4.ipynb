{
 "cells": [
  {
   "cell_type": "code",
   "execution_count": 1,
   "metadata": {},
   "outputs": [
    {
     "name": "stdout",
     "output_type": "stream",
     "text": [
      "hello world\n"
     ]
    }
   ],
   "source": [
    "print(\"hello world\");"
   ]
  },
  {
   "cell_type": "code",
   "execution_count": 2,
   "metadata": {},
   "outputs": [
    {
     "name": "stdout",
     "output_type": "stream",
     "text": [
      "15\n"
     ]
    }
   ],
   "source": [
    "a=5;\n",
    "b=10;\n",
    "c=a+b;\n",
    "print(c);"
   ]
  },
  {
   "cell_type": "code",
   "execution_count": 3,
   "metadata": {},
   "outputs": [
    {
     "name": "stdout",
     "output_type": "stream",
     "text": [
      "munazzaiqbal\n"
     ]
    }
   ],
   "source": [
    "x=\"munazza\";\n",
    "y=\"iqbal\";\n",
    "z=x+y;\n",
    "print(z);"
   ]
  },
  {
   "cell_type": "code",
   "execution_count": 4,
   "metadata": {},
   "outputs": [
    {
     "name": "stdout",
     "output_type": "stream",
     "text": [
      "48\n"
     ]
    }
   ],
   "source": [
    "f=\"4\";\n",
    "g=\"8\";\n",
    "h=f+g;\n",
    "print(h);"
   ]
  },
  {
   "cell_type": "code",
   "execution_count": 5,
   "metadata": {},
   "outputs": [
    {
     "ename": "TypeError",
     "evalue": "can only concatenate str (not \"int\") to str",
     "output_type": "error",
     "traceback": [
      "\u001b[1;31m---------------------------------------------------------------------------\u001b[0m",
      "\u001b[1;31mTypeError\u001b[0m                                 Traceback (most recent call last)",
      "\u001b[1;32m<ipython-input-5-5d79ed53e214>\u001b[0m in \u001b[0;36m<module>\u001b[1;34m\u001b[0m\n\u001b[0;32m      1\u001b[0m \u001b[0ma\u001b[0m\u001b[1;33m=\u001b[0m\u001b[1;34m\"20\"\u001b[0m\u001b[1;33m;\u001b[0m\u001b[1;33m\u001b[0m\u001b[1;33m\u001b[0m\u001b[0m\n\u001b[0;32m      2\u001b[0m \u001b[0mb\u001b[0m\u001b[1;33m=\u001b[0m\u001b[1;36m10\u001b[0m\u001b[1;33m;\u001b[0m\u001b[1;33m\u001b[0m\u001b[1;33m\u001b[0m\u001b[0m\n\u001b[1;32m----> 3\u001b[1;33m \u001b[0mc\u001b[0m\u001b[1;33m=\u001b[0m\u001b[0ma\u001b[0m\u001b[1;33m+\u001b[0m\u001b[0mb\u001b[0m\u001b[1;33m;\u001b[0m\u001b[1;33m\u001b[0m\u001b[1;33m\u001b[0m\u001b[0m\n\u001b[0m\u001b[0;32m      4\u001b[0m \u001b[0mprint\u001b[0m\u001b[1;33m(\u001b[0m\u001b[0mc\u001b[0m\u001b[1;33m)\u001b[0m\u001b[1;33m;\u001b[0m\u001b[1;33m\u001b[0m\u001b[1;33m\u001b[0m\u001b[0m\n",
      "\u001b[1;31mTypeError\u001b[0m: can only concatenate str (not \"int\") to str"
     ]
    }
   ],
   "source": [
    "a=\"20\";\n",
    "b=10;\n",
    "c=a+b;\n",
    "print(c);"
   ]
  },
  {
   "cell_type": "code",
   "execution_count": 6,
   "metadata": {},
   "outputs": [
    {
     "name": "stdout",
     "output_type": "stream",
     "text": [
      "8\n"
     ]
    }
   ],
   "source": [
    "x=8;\n",
    "y=x+7;\n",
    "z=y-x+1;\n",
    "print(z);"
   ]
  },
  {
   "cell_type": "code",
   "execution_count": 8,
   "metadata": {},
   "outputs": [
    {
     "name": "stdout",
     "output_type": "stream",
     "text": [
      "55.0\n"
     ]
    }
   ],
   "source": [
    "a=12-4/2+9*5;\n",
    "print(a);"
   ]
  },
  {
   "cell_type": "code",
   "execution_count": 10,
   "metadata": {},
   "outputs": [
    {
     "name": "stdout",
     "output_type": "stream",
     "text": [
      "3.6363636363636367\n"
     ]
    }
   ],
   "source": [
    "a=((12-4)/(2+9)*5);\n",
    "print(a);"
   ]
  },
  {
   "cell_type": "code",
   "execution_count": 11,
   "metadata": {},
   "outputs": [
    {
     "name": "stdout",
     "output_type": "stream",
     "text": [
      "1\n"
     ]
    }
   ],
   "source": [
    "x=10;\n",
    "y=x%3;\n",
    "print(y);"
   ]
  },
  {
   "cell_type": "code",
   "execution_count": 12,
   "metadata": {},
   "outputs": [
    {
     "name": "stdout",
     "output_type": "stream",
     "text": [
      "12\n"
     ]
    }
   ],
   "source": [
    "f=10;\n",
    "f=12;\n",
    "print(f);"
   ]
  },
  {
   "cell_type": "code",
   "execution_count": 13,
   "metadata": {},
   "outputs": [
    {
     "name": "stdout",
     "output_type": "stream",
     "text": [
      "7\n"
     ]
    }
   ],
   "source": [
    "g=5;\n",
    "g=g+2;\n",
    "print(g);"
   ]
  },
  {
   "cell_type": "code",
   "execution_count": 14,
   "metadata": {},
   "outputs": [
    {
     "name": "stdout",
     "output_type": "stream",
     "text": [
      "6\n"
     ]
    }
   ],
   "source": [
    "a=3;\n",
    "a+=3;\n",
    "print(a);"
   ]
  },
  {
   "cell_type": "code",
   "execution_count": 16,
   "metadata": {},
   "outputs": [
    {
     "name": "stdout",
     "output_type": "stream",
     "text": [
      "my name is munazza\n"
     ]
    }
   ],
   "source": [
    "a=\"munazza\";\n",
    "print(\"my name is \"+a);"
   ]
  },
  {
   "cell_type": "code",
   "execution_count": 18,
   "metadata": {},
   "outputs": [
    {
     "name": "stdout",
     "output_type": "stream",
     "text": [
      "allow for ride\n"
     ]
    }
   ],
   "source": [
    "gender=\"female\";\n",
    "if gender ==\"female\":\n",
    "        print(\"allow for ride\");"
   ]
  },
  {
   "cell_type": "code",
   "execution_count": 20,
   "metadata": {},
   "outputs": [
    {
     "name": "stdout",
     "output_type": "stream",
     "text": [
      "rok lo\n"
     ]
    }
   ],
   "source": [
    "gender=\"male\";\n",
    "if gender ==\"female\":\n",
    "        print(\"allow for ride\");\n",
    "else:\n",
    "        print(\"rok lo\");"
   ]
  },
  {
   "cell_type": "code",
   "execution_count": 21,
   "metadata": {},
   "outputs": [
    {
     "name": "stdout",
     "output_type": "stream",
     "text": [
      "allow for ride\n"
     ]
    }
   ],
   "source": [
    "gender=\"male\";\n",
    "if gender !=\"female\":\n",
    "        print(\"allow for ride\");\n",
    "else:\n",
    "        print(\"rok lo\");"
   ]
  },
  {
   "cell_type": "code",
   "execution_count": 24,
   "metadata": {},
   "outputs": [
    {
     "name": "stdout",
     "output_type": "stream",
     "text": [
      "rok lo\n"
     ]
    }
   ],
   "source": [
    "age=14;\n",
    "gender=\"female\";\n",
    "if age>18 or gender==\"male\":\n",
    "    print(\"allow for ride\");\n",
    "else:\n",
    "        print(\"rok lo\");"
   ]
  },
  {
   "cell_type": "code",
   "execution_count": 25,
   "metadata": {},
   "outputs": [
    {
     "name": "stdout",
     "output_type": "stream",
     "text": [
      "allow for ride\n"
     ]
    }
   ],
   "source": [
    "age=14;\n",
    "gender=\"female\";\n",
    "if age>10 or gender==\"male\":\n",
    "    print(\"allow for ride\");\n",
    "else:\n",
    "        print(\"rok lo\");"
   ]
  },
  {
   "cell_type": "code",
   "execution_count": 28,
   "metadata": {},
   "outputs": [
    {
     "name": "stdout",
     "output_type": "stream",
     "text": [
      "grade a+\n"
     ]
    }
   ],
   "source": [
    "percent=82;\n",
    "if percent<100 and percent>80:\n",
    "    print (\"grade a+\");\n",
    "elif percent<80 and percent>70:\n",
    "    print (\"grade a\"); \n",
    "else:\n",
    "    print(\"fail\");"
   ]
  },
  {
   "cell_type": "code",
   "execution_count": 31,
   "metadata": {},
   "outputs": [
    {
     "name": "stdout",
     "output_type": "stream",
     "text": [
      "80.0\n",
      "Grade A+\n"
     ]
    }
   ],
   "source": [
    "English = 85;\n",
    "Maths = 80;\n",
    "Islamiat = 75;\n",
    "Total = 300;\n",
    "Percentage = (80+85+75)/300 *100;\n",
    "print (Percentage);\n",
    "\n",
    "if (Percentage >=80 and Percentage <100):\n",
    "    print(\"Grade A+\");\n",
    "elif (Percentage >=70 and Percentage <80):\n",
    "    print(\"Grade A\");\n",
    "elif (Percentage >=60 and Percentage <70):\n",
    "    print(\"Grade B\");\n",
    "elif (Percentage >=50 and Percentage <60):\n",
    "    print(\"Grade C\");\n",
    "elif (Percentage >=50 and Percentage <60):\n",
    "    print(\"Grade D\");\n",
    "elif (Percentage >=50 and Percentage <60):\n",
    "    print(\"Grade D\");\n",
    "else:\n",
    "    print(\"fail\");"
   ]
  },
  {
   "cell_type": "markdown",
   "metadata": {},
   "source": [
    "# lec 03"
   ]
  },
  {
   "cell_type": "code",
   "execution_count": 3,
   "metadata": {},
   "outputs": [
    {
     "name": "stdout",
     "output_type": "stream",
     "text": [
      "enter english marks67\n",
      "enter maths marks54\n",
      "enter islamiat marks35\n",
      "52.0\n",
      "Grade C\n"
     ]
    }
   ],
   "source": [
    "English = int(input('enter english marks : '));\n",
    "Maths = int(input('enter maths marks : '));\n",
    "Islamiat = int(input('enter islamiat marks : '));\n",
    "Total = 300;\n",
    "Percentage = (English+Maths+Islamiat)/300 *100;\n",
    "print (Percentage);\n",
    "\n",
    "if (Percentage >=80 and Percentage <100):\n",
    "    print(\"Grade A+\");\n",
    "elif (Percentage >=70 and Percentage <80):\n",
    "    print(\"Grade A\");\n",
    "elif (Percentage >=60 and Percentage <70):\n",
    "    print(\"Grade B\");\n",
    "elif (Percentage >=50 and Percentage <60):\n",
    "    print(\"Grade C\");\n",
    "elif (Percentage >=60 and Percentage <40):\n",
    "    print(\"Grade D\");\n",
    "elif (Percentage >=40 and Percentage <30):\n",
    "    print(\"Grade D\");\n",
    "else:\n",
    "    print(\"fail\");"
   ]
  },
  {
   "cell_type": "code",
   "execution_count": 4,
   "metadata": {},
   "outputs": [
    {
     "name": "stdout",
     "output_type": "stream",
     "text": [
      "81\n"
     ]
    }
   ],
   "source": [
    "# power\n",
    "y = 3**4\n",
    "print(y)"
   ]
  },
  {
   "cell_type": "code",
   "execution_count": 7,
   "metadata": {},
   "outputs": [
    {
     "name": "stdout",
     "output_type": "stream",
     "text": [
      "hello\n",
      "world\n"
     ]
    }
   ],
   "source": [
    "print('hello\\nworld')"
   ]
  },
  {
   "cell_type": "code",
   "execution_count": 10,
   "metadata": {},
   "outputs": [
    {
     "name": "stdout",
     "output_type": "stream",
     "text": [
      "True\n"
     ]
    }
   ],
   "source": [
    "x = 10\n",
    "y = 12\n",
    "a = 30\n",
    "b = 8\n",
    "if x+y==a-b:\n",
    "    print(True)\n",
    "else:\n",
    "    print(False)"
   ]
  },
  {
   "cell_type": "code",
   "execution_count": 11,
   "metadata": {},
   "outputs": [
    {
     "name": "stdout",
     "output_type": "stream",
     "text": [
      "enter age : 22\n",
      "emter gender : female\n",
      "not allow\n"
     ]
    }
   ],
   "source": [
    "age = int(input('enter age : '))\n",
    "gender  = input('emter gender : ')\n",
    "if age > 18 and gender == 'male':\n",
    "    print('allow')\n",
    "else:\n",
    "    print('not allow')"
   ]
  },
  {
   "cell_type": "code",
   "execution_count": 15,
   "metadata": {},
   "outputs": [
    {
     "name": "stdout",
     "output_type": "stream",
     "text": [
      "munazza,muhaba,hafsa,saad\n"
     ]
    }
   ],
   "source": [
    "name1 = \"munazza\"\n",
    "name2 = \"muhaba\"\n",
    "name3 = \"hafsa\"\n",
    "name4 = \"saad\"\n",
    "print(name1+\",\"+name2+\",\"+name3+\",\"+name4)"
   ]
  },
  {
   "cell_type": "code",
   "execution_count": 16,
   "metadata": {},
   "outputs": [
    {
     "name": "stdout",
     "output_type": "stream",
     "text": [
      "['munazza', 'muhaba', 'hafsa', 'saad']\n"
     ]
    }
   ],
   "source": [
    "# list \n",
    "name = ['munazza','muhaba','hafsa','saad']\n",
    "print(name) "
   ]
  },
  {
   "cell_type": "code",
   "execution_count": 17,
   "metadata": {},
   "outputs": [
    {
     "name": "stdout",
     "output_type": "stream",
     "text": [
      "munazza\n"
     ]
    }
   ],
   "source": [
    "print(name[0])"
   ]
  },
  {
   "cell_type": "code",
   "execution_count": 18,
   "metadata": {},
   "outputs": [
    {
     "name": "stdout",
     "output_type": "stream",
     "text": [
      "['munazza', 'ali', 'hafsa', 'saad']\n"
     ]
    }
   ],
   "source": [
    "name[1]='ali'\n",
    "print(name)"
   ]
  },
  {
   "cell_type": "code",
   "execution_count": 19,
   "metadata": {},
   "outputs": [
    {
     "name": "stdout",
     "output_type": "stream",
     "text": [
      "['munazza', 'ali', 'hafsa', 'saad', 'ahmed']\n"
     ]
    }
   ],
   "source": [
    "name.append('ahmed')\n",
    "print(name)"
   ]
  },
  {
   "cell_type": "code",
   "execution_count": 20,
   "metadata": {},
   "outputs": [
    {
     "name": "stdout",
     "output_type": "stream",
     "text": [
      "['lion', 12, True, 5.09]\n"
     ]
    }
   ],
   "source": [
    "arr = ['lion',12,True,5.09]\n",
    "print(arr)"
   ]
  },
  {
   "cell_type": "code",
   "execution_count": 22,
   "metadata": {},
   "outputs": [
    {
     "name": "stdout",
     "output_type": "stream",
     "text": [
      "['munazza', 'ali', 'hafsa', 'saad', 'ahmed', 'lion', 12, True, 5.09]\n"
     ]
    }
   ],
   "source": [
    "new_list = name+arr\n",
    "print(new_list)"
   ]
  },
  {
   "cell_type": "code",
   "execution_count": 25,
   "metadata": {},
   "outputs": [
    {
     "name": "stdout",
     "output_type": "stream",
     "text": [
      "['lion', 12, True, 'musaab', 5.09]\n"
     ]
    }
   ],
   "source": [
    "arr.insert(3,'musaab')\n",
    "print(arr)"
   ]
  },
  {
   "cell_type": "code",
   "execution_count": 4,
   "metadata": {},
   "outputs": [
    {
     "ename": "NameError",
     "evalue": "name 'arr' is not defined",
     "output_type": "error",
     "traceback": [
      "\u001b[1;31m---------------------------------------------------------------------------\u001b[0m",
      "\u001b[1;31mNameError\u001b[0m                                 Traceback (most recent call last)",
      "\u001b[1;32m<ipython-input-4-dfdcd1d2bdf9>\u001b[0m in \u001b[0;36m<module>\u001b[1;34m\u001b[0m\n\u001b[1;32m----> 1\u001b[1;33m \u001b[0marr2\u001b[0m \u001b[1;33m=\u001b[0m \u001b[0marr\u001b[0m\u001b[1;33m[\u001b[0m\u001b[1;36m2\u001b[0m\u001b[1;33m:\u001b[0m\u001b[1;36m4\u001b[0m\u001b[1;33m]\u001b[0m\u001b[1;33m\u001b[0m\u001b[1;33m\u001b[0m\u001b[0m\n\u001b[0m\u001b[0;32m      2\u001b[0m \u001b[0mprint\u001b[0m\u001b[1;33m(\u001b[0m\u001b[0marr2\u001b[0m\u001b[1;33m)\u001b[0m\u001b[1;33m\u001b[0m\u001b[1;33m\u001b[0m\u001b[0m\n",
      "\u001b[1;31mNameError\u001b[0m: name 'arr' is not defined"
     ]
    }
   ],
   "source": [
    "arr2 = arr[2:4]\n",
    "print(arr2)"
   ]
  },
  {
   "cell_type": "code",
   "execution_count": 27,
   "metadata": {},
   "outputs": [
    {
     "name": "stdout",
     "output_type": "stream",
     "text": [
      "['lion', 12, True]\n"
     ]
    }
   ],
   "source": [
    "arr2 = arr[:3]\n",
    "print(arr2)"
   ]
  },
  {
   "cell_type": "code",
   "execution_count": 28,
   "metadata": {},
   "outputs": [
    {
     "name": "stdout",
     "output_type": "stream",
     "text": [
      "['lion', 12, 'musaab', 5.09]\n"
     ]
    }
   ],
   "source": [
    "del arr[2]\n",
    "print(arr)"
   ]
  },
  {
   "cell_type": "code",
   "execution_count": 29,
   "metadata": {},
   "outputs": [
    {
     "name": "stdout",
     "output_type": "stream",
     "text": [
      "['lion', 'musaab', 5.09]\n"
     ]
    }
   ],
   "source": [
    "arr.remove(12)\n",
    "print(arr)"
   ]
  },
  {
   "cell_type": "code",
   "execution_count": 30,
   "metadata": {},
   "outputs": [
    {
     "name": "stdout",
     "output_type": "stream",
     "text": [
      "['lion', 'musaab']\n"
     ]
    }
   ],
   "source": [
    "arr.pop()\n",
    "print(arr)"
   ]
  },
  {
   "cell_type": "code",
   "execution_count": null,
   "metadata": {},
   "outputs": [],
   "source": []
  }
 ],
 "metadata": {
  "kernelspec": {
   "display_name": "Python 3",
   "language": "python",
   "name": "python3"
  },
  "language_info": {
   "codemirror_mode": {
    "name": "ipython",
    "version": 3
   },
   "file_extension": ".py",
   "mimetype": "text/x-python",
   "name": "python",
   "nbconvert_exporter": "python",
   "pygments_lexer": "ipython3",
   "version": "3.8.5"
  }
 },
 "nbformat": 4,
 "nbformat_minor": 4
}
