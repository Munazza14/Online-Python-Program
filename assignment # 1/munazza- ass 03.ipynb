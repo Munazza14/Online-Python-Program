{
 "cells": [
  {
   "cell_type": "code",
   "execution_count": 29,
   "metadata": {},
   "outputs": [
    {
     "name": "stdout",
     "output_type": "stream",
     "text": [
      "Twinkle, twinkle, little star, \n",
      "\tHow I wonder what you are! \n",
      "\t\tUp above the world so high, \n",
      "\t\tLike a diamond in the sky. \n",
      "Twinkle, twinkle, little star, \n",
      "\tHow I wonder what you are!\n"
     ]
    }
   ],
   "source": [
    "# 1\n",
    "print(\"Twinkle, twinkle, little star, \\n\\tHow I wonder what you are! \\n\\t\\tUp above the world so high, \\n\\t\\tLike a diamond in the sky. \\nTwinkle, twinkle, little star, \\n\\tHow I wonder what you are!\")"
   ]
  },
  {
   "cell_type": "code",
   "execution_count": 1,
   "metadata": {},
   "outputs": [
    {
     "name": "stdout",
     "output_type": "stream",
     "text": [
      "3.8.5\n"
     ]
    }
   ],
   "source": [
    "# 2\n",
    "import platform\n",
    "print(platform.python_version())"
   ]
  },
  {
   "cell_type": "code",
   "execution_count": 2,
   "metadata": {},
   "outputs": [
    {
     "name": "stdout",
     "output_type": "stream",
     "text": [
      "Current date and time : \n",
      "2021-10-23 11:03:50\n"
     ]
    }
   ],
   "source": [
    "# 3\n",
    "import datetime\n",
    "now = datetime.datetime.now()\n",
    "print (\"Current date and time : \")\n",
    "print (now.strftime(\"%Y-%m-%d %H:%M:%S\"))"
   ]
  },
  {
   "cell_type": "code",
   "execution_count": 3,
   "metadata": {},
   "outputs": [
    {
     "name": "stdout",
     "output_type": "stream",
     "text": [
      "Input the radius of the circle : 2.5\n",
      "The area of the circle with radius 2.5 is: 19.634954084936208\n"
     ]
    }
   ],
   "source": [
    "# 4\n",
    "from math import pi\n",
    "r = float(input (\"Input the radius of the circle : \"))\n",
    "print (\"The area of the circle with radius \" + str(r) + \" is: \" + str(pi * r**2))"
   ]
  },
  {
   "cell_type": "code",
   "execution_count": 7,
   "metadata": {},
   "outputs": [
    {
     "name": "stdout",
     "output_type": "stream",
     "text": [
      "Input your First Name : munazza\n",
      "Input your Last Name : iqbal\n",
      "Hello labqi azzanum\n"
     ]
    }
   ],
   "source": [
    "# 5\n",
    "fname = input(\"Input your First Name : \")[::-1]\n",
    "lname = input(\"Input your Last Name : \")[::-1]\n",
    "print (\"Hello \" + lname + \" \" + fname)\n"
   ]
  },
  {
   "cell_type": "code",
   "execution_count": 9,
   "metadata": {},
   "outputs": [
    {
     "name": "stdout",
     "output_type": "stream",
     "text": [
      "Enter first no. 2\n",
      "Enter second no. 3\n",
      "5\n"
     ]
    }
   ],
   "source": [
    "# 6\n",
    "no1 = int(input(\"Enter first no. \"))\n",
    "no2 = int(input(\"Enter second no. \"))\n",
    "print(no1 + no2)"
   ]
  },
  {
   "cell_type": "code",
   "execution_count": 15,
   "metadata": {},
   "outputs": [
    {
     "name": "stdout",
     "output_type": "stream",
     "text": [
      "Enter English marks : 56\n",
      "Enter Urdu marks : 73\n",
      "Enter Maths marks : 58\n",
      "Enter Urdu marks : 88\n",
      "Enter Urdu marks : 66\n",
      "YOU GOT GRADE B WITH 68.2%\n"
     ]
    }
   ],
   "source": [
    "# 7\n",
    "English = int(input(\"Enter English marks : \"))\n",
    "Urdu = int(input(\"Enter Urdu marks : \"))\n",
    "Math = int(input(\"Enter Maths marks : \"))\n",
    "Comp = int(input(\"Enter Urdu marks : \"))\n",
    "Isl = int(input(\"Enter Urdu marks : \"))\n",
    "total = 500\n",
    "Percentage = (English+Urdu+Math+Comp+Isl)/total *100;\n",
    "\n",
    "if (Percentage >=80 and Percentage <100):\n",
    "    print(F'YOU GOT GRADE A+ WITH {Percentage}%')\n",
    "elif (Percentage >=70 and Percentage <80):\n",
    "    print(F'YOU GOT GRADE A WITH {Percentage}%')\n",
    "elif (Percentage >=60 and Percentage <70):\n",
    "    print(F'YOU GOT GRADE B WITH {Percentage}%')\n",
    "elif (Percentage >=50 and Percentage <60):\n",
    "    print(F'YOU GOT GRADE C WITH {Percentage}%')\n",
    "elif (Percentage >=60 and Percentage <40):\n",
    "    print(F'YOU GOT GRADE D WITH {Percentage}%')\n",
    "elif (Percentage >=40 and Percentage <30):\n",
    "    print(F'YOU GOT GRADE E WITH {Percentage}%')\n",
    "else:\n",
    "    print(\"FAIL\");\n",
    "\n"
   ]
  },
  {
   "cell_type": "code",
   "execution_count": 23,
   "metadata": {},
   "outputs": [
    {
     "name": "stdout",
     "output_type": "stream",
     "text": [
      "Enter first no. 3\n",
      "ODD NUMBER\n"
     ]
    }
   ],
   "source": [
    "# 8\n",
    "no1 = int(input(\"Enter first no. \"))\n",
    "if no1%2==0:\n",
    "    print(\"EVEN NUMBER\")\n",
    "else:\n",
    "    print(\"ODD NUMBER\")"
   ]
  },
  {
   "cell_type": "code",
   "execution_count": 24,
   "metadata": {},
   "outputs": [
    {
     "name": "stdout",
     "output_type": "stream",
     "text": [
      "5\n"
     ]
    }
   ],
   "source": [
    "# 9\n",
    "names = ['john', 'bob', 'mosh', 'sarah', 'mary']\n",
    "print(len(names))"
   ]
  },
  {
   "cell_type": "code",
   "execution_count": 25,
   "metadata": {},
   "outputs": [
    {
     "name": "stdout",
     "output_type": "stream",
     "text": [
      "366\n"
     ]
    }
   ],
   "source": [
    "# 10\n",
    "numbers = [34, 45, 76, 26, 74, 9, 2, 100]\n",
    "print(sum(numbers))"
   ]
  },
  {
   "cell_type": "code",
   "execution_count": 26,
   "metadata": {},
   "outputs": [
    {
     "name": "stdout",
     "output_type": "stream",
     "text": [
      "100\n"
     ]
    }
   ],
   "source": [
    "# 11\n",
    "numbers = [34, 45, 76, 26, 74, 9, 2, 100]\n",
    "print(max(numbers))"
   ]
  },
  {
   "cell_type": "code",
   "execution_count": 28,
   "metadata": {},
   "outputs": [
    {
     "name": "stdout",
     "output_type": "stream",
     "text": [
      "1\n",
      "1\n",
      "2\n",
      "3\n"
     ]
    }
   ],
   "source": [
    "# 12\n",
    "a = [1, 1, 2, 3, 5, 8, 13, 21, 34, 55, 89]\n",
    "for i in a:\n",
    "    if i < 5:\n",
    "        print(i)"
   ]
  },
  {
   "cell_type": "code",
   "execution_count": null,
   "metadata": {},
   "outputs": [],
   "source": []
  }
 ],
 "metadata": {
  "kernelspec": {
   "display_name": "Python 3",
   "language": "python",
   "name": "python3"
  },
  "language_info": {
   "codemirror_mode": {
    "name": "ipython",
    "version": 3
   },
   "file_extension": ".py",
   "mimetype": "text/x-python",
   "name": "python",
   "nbconvert_exporter": "python",
   "pygments_lexer": "ipython3",
   "version": "3.8.5"
  }
 },
 "nbformat": 4,
 "nbformat_minor": 4
}
